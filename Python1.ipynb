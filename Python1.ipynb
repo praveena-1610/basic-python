{
  "nbformat": 4,
  "nbformat_minor": 0,
  "metadata": {
    "colab": {
      "provenance": []
    },
    "kernelspec": {
      "name": "python3",
      "display_name": "Python 3"
    },
    "language_info": {
      "name": "python"
    }
  },
  "cells": [
    {
      "cell_type": "markdown",
      "source": [
        "# Python for AI\n",
        "\n",
        "## Basic Python\n",
        "\n",
        "## What is Computer Programming/coding?\n",
        "\n",
        "\n",
        "*   Computer programming, also known as coding, is the process of wrting/giving instructions to a computer so that a computer can follow to perform specific tasks.\n",
        "*   These instructions are written in a programming language, which is a set of rules and symbols that enable communication between humans and computers.\n",
        "\n",
        "*   Suppose you want to tell the computer to **print \"Hello, world!\"** on the screen. In Python, the code for this task looks like this:  \n"
      ],
      "metadata": {
        "id": "ANh823p9f-Tv"
      }
    },
    {
      "cell_type": "code",
      "execution_count": null,
      "metadata": {
        "colab": {
          "base_uri": "https://localhost:8080/"
        },
        "id": "2ThetJzvf8-s",
        "outputId": "2491cc97-9601-400c-8ee5-62e4a6e9da2a"
      },
      "outputs": [
        {
          "output_type": "stream",
          "name": "stdout",
          "text": [
            "Hello World\n"
          ]
        }
      ],
      "source": [
        "print(\"Hello World\")"
      ]
    },
    {
      "cell_type": "code",
      "source": [
        "!nvidia-smi\n"
      ],
      "metadata": {
        "colab": {
          "base_uri": "https://localhost:8080/"
        },
        "id": "PbVxn5owKpD2",
        "outputId": "4e071d5b-134d-4585-a98e-b3c5eb46dcfe"
      },
      "execution_count": null,
      "outputs": [
        {
          "output_type": "stream",
          "name": "stdout",
          "text": [
            "Sat Feb 15 15:12:02 2025       \n",
            "+-----------------------------------------------------------------------------------------+\n",
            "| NVIDIA-SMI 550.54.15              Driver Version: 550.54.15      CUDA Version: 12.4     |\n",
            "|-----------------------------------------+------------------------+----------------------+\n",
            "| GPU  Name                 Persistence-M | Bus-Id          Disp.A | Volatile Uncorr. ECC |\n",
            "| Fan  Temp   Perf          Pwr:Usage/Cap |           Memory-Usage | GPU-Util  Compute M. |\n",
            "|                                         |                        |               MIG M. |\n",
            "|=========================================+========================+======================|\n",
            "|   0  Tesla T4                       Off |   00000000:00:04.0 Off |                    0 |\n",
            "| N/A   59C    P8             13W /   70W |       0MiB /  15360MiB |      0%      Default |\n",
            "|                                         |                        |                  N/A |\n",
            "+-----------------------------------------+------------------------+----------------------+\n",
            "                                                                                         \n",
            "+-----------------------------------------------------------------------------------------+\n",
            "| Processes:                                                                              |\n",
            "|  GPU   GI   CI        PID   Type   Process name                              GPU Memory |\n",
            "|        ID   ID                                                               Usage      |\n",
            "|=========================================================================================|\n",
            "|  No running processes found                                                             |\n",
            "+-----------------------------------------------------------------------------------------+\n"
          ]
        }
      ]
    },
    {
      "cell_type": "code",
      "source": [
        "print('Hello World \\nThis is Python code \\nWelcome')"
      ],
      "metadata": {
        "colab": {
          "base_uri": "https://localhost:8080/"
        },
        "id": "j2SAYqxzgTFH",
        "outputId": "1e6f4f37-9ed6-4f85-eefe-9b0296ac8050"
      },
      "execution_count": null,
      "outputs": [
        {
          "output_type": "stream",
          "name": "stdout",
          "text": [
            "Hello World \n",
            "This is Python code \n",
            "Welcome\n"
          ]
        }
      ]
    },
    {
      "cell_type": "code",
      "source": [
        "# This is formatted as code"
      ],
      "metadata": {
        "id": "X0Yx1XPdgeNp"
      },
      "execution_count": null,
      "outputs": []
    },
    {
      "cell_type": "markdown",
      "source": [
        "# Data Types:\n",
        "In programming, data type refers to the type of value a variable has and what type of mathematical, relational or logical operations can be applied without causing an error.\n",
        "\n",
        "\n",
        "\n",
        "*   **Integer (int):** Integers are whole numbers, both positive and negative, without any decimal point. Examples of integers are -3, 0, 42, 1000, etc.\n",
        "*   **Float (float):** Floats are numbers that have a decimal point or use exponential notation. Examples of floats are 3.14, -0.001, 2.0, etc.\n",
        "\n",
        "\n",
        "*   **String (str):** Strings are sequences of characters, enclosed in either single quotes (' ') or double quotes (\" \"). Examples of strings are \"Hello\", 'Python', \"123\", etc.\n",
        "*   **Boolean (bool):** Booleans represent truth values. They can only be either True or False.\n"
      ],
      "metadata": {
        "id": "zxyaUL_hgz22"
      }
    },
    {
      "cell_type": "code",
      "source": [
        "a = 10\n",
        "b = 30.05\n",
        "c = \"Harsh\"\n",
        "print(a,b,c, sep=\"--\")"
      ],
      "metadata": {
        "colab": {
          "base_uri": "https://localhost:8080/"
        },
        "id": "gwH8eZ-8geV8",
        "outputId": "791db300-179b-4b40-e5b7-b2982484136d"
      },
      "execution_count": null,
      "outputs": [
        {
          "output_type": "stream",
          "name": "stdout",
          "text": [
            "10--30.05--Harsh\n"
          ]
        }
      ]
    },
    {
      "cell_type": "code",
      "source": [
        "#integer datatype\n",
        "num_students = 30\n",
        "#float\n",
        "average_grade = 85.5\n",
        "#string\n",
        "student_name = \"Alice\"\n",
        "#boolean\n",
        "is_passing = True\n"
      ],
      "metadata": {
        "id": "HnzqPv7EgeQM"
      },
      "execution_count": null,
      "outputs": []
    },
    {
      "cell_type": "code",
      "source": [
        "print(num_students,average_grade,student_name)"
      ],
      "metadata": {
        "colab": {
          "base_uri": "https://localhost:8080/"
        },
        "id": "a67X8GBYgeSZ",
        "outputId": "340f6528-4bcb-4a91-bc33-cda41e75aa89"
      },
      "execution_count": null,
      "outputs": [
        {
          "output_type": "stream",
          "name": "stdout",
          "text": [
            "30 85.5 Alice\n"
          ]
        }
      ]
    },
    {
      "cell_type": "code",
      "source": [
        "# Print the above data types by using its variables using single print statement\n",
        "# Your code starts here\n",
        "\n",
        "\n",
        "# Output\n",
        "# 30\n",
        "# 85.5\n",
        "# Allice\n",
        "True\n",
        "# print(num_students,average_grade,student_name,is_passing,sep=\"\\n\")\n",
        "\n",
        "# # Your code ends here\n",
        "\n",
        "print(f\"Name {student_name} \\nage: {num_students}\")\n",
        "print(\"Name {student_name} \\nage: {num_students}\")\n",
        "\n"
      ],
      "metadata": {
        "colab": {
          "base_uri": "https://localhost:8080/"
        },
        "id": "DHIynpMTg-Gv",
        "outputId": "5981b6fa-a689-4ac5-b028-468dfb992dad"
      },
      "execution_count": null,
      "outputs": [
        {
          "output_type": "stream",
          "name": "stdout",
          "text": [
            "Name Alice \n",
            "age: 30\n",
            "Name {student_name} \n",
            "age: {num_students}\n"
          ]
        }
      ]
    },
    {
      "cell_type": "code",
      "source": [
        "#  Create variable called 'Name' and store your name(string data type) in that variable\n",
        "\n",
        "# Create variable called 'email_address' and store your email address(string data type) in that variable\n",
        "\n",
        "# Create variable roll_number and your store roll number(int data type) in that variable\n",
        "\n",
        "#Print your name, email address and roll number using single print statement and it should be arranged vertically"
      ],
      "metadata": {
        "id": "ltJy7mSuhPnm"
      },
      "execution_count": null,
      "outputs": []
    },
    {
      "cell_type": "markdown",
      "source": [
        "# Arithmetic and Logic operators:\n",
        "In Python, arithmetic operators are used for basic math operations:\n",
        "*   Addition (+)\n",
        "*   Subtraction (-)\n",
        "\n",
        "*   Multiplication (*)\n",
        "*   Division (/)\n",
        "\n",
        "*   Exponentiation (**)\n",
        "*   Modulus (%) (gives the remainder of a division operation)\n",
        "\n",
        "*   Floor Division (//) (divides and rounds down to the nearest whole number)\n",
        "\n",
        "\n",
        "\n",
        "Logic operators are used for logical comparisons:\n",
        "\n",
        "\n",
        "*   Equals (==)\n",
        "\n",
        "*   Not Equals (!=)\n",
        "*   Greater Than (>)\n",
        "\n",
        "\n",
        "*   Less Than (<)\n",
        "\n",
        "*   Greater Than or Equal To (>=)\n",
        "*   Less Than or Equal To (<=)\n",
        "\n",
        "*   AND (and)\n",
        "*   OR (or)\n",
        "\n",
        "*   NOT (not)\n"
      ],
      "metadata": {
        "id": "xb2C4Jqyhq3s"
      }
    },
    {
      "cell_type": "code",
      "source": [
        "# Arithmetic operators\n",
        "num1 = 10\n",
        "num2 = 5\n",
        "\n",
        "# Addition\n",
        "result = num1 + num2\n",
        "print(result)\n",
        "\n",
        "# Subtraction\n",
        "sub_result = num1-num2\n",
        "print(sub_result)\n",
        "\n",
        "# Multiplication\n",
        "mul_result = num1*num2\n",
        "print(mul_result)\n",
        "\n",
        "# Division\n",
        "div_result = num1/num2\n",
        "print(div_result)\n",
        "\n",
        "#modulo\n",
        "mod_result = 203 % 100\n",
        "print(mod_result)\n"
      ],
      "metadata": {
        "colab": {
          "base_uri": "https://localhost:8080/"
        },
        "id": "-K6PjJtKhmJr",
        "outputId": "4effe2b3-e4b5-48a0-982f-9f890d0409ef"
      },
      "execution_count": null,
      "outputs": [
        {
          "output_type": "stream",
          "name": "stdout",
          "text": [
            "15\n",
            "5\n",
            "50\n",
            "2.0\n",
            "3\n"
          ]
        }
      ]
    },
    {
      "cell_type": "code",
      "source": [
        "print(3**3)"
      ],
      "metadata": {
        "colab": {
          "base_uri": "https://localhost:8080/"
        },
        "id": "P_gbLKXahmNH",
        "outputId": "15fa6466-6d4a-4d60-8dd5-1f47118a1a81"
      },
      "execution_count": null,
      "outputs": [
        {
          "output_type": "stream",
          "name": "stdout",
          "text": [
            "27\n"
          ]
        }
      ]
    },
    {
      "cell_type": "code",
      "source": [
        "a=19\n",
        "b=5\n",
        "\n",
        "print(a/b)\n",
        "print(a//b)"
      ],
      "metadata": {
        "colab": {
          "base_uri": "https://localhost:8080/"
        },
        "id": "sxxVuGUYh6ux",
        "outputId": "45c2d95a-cd36-4999-c76d-f67569f2ab44"
      },
      "execution_count": null,
      "outputs": [
        {
          "output_type": "stream",
          "name": "stdout",
          "text": [
            "3.8\n",
            "3\n"
          ]
        }
      ]
    },
    {
      "cell_type": "markdown",
      "source": [
        "# Logical Operators in Python\n",
        "1. And\n",
        "2. Or\n",
        "3. Not"
      ],
      "metadata": {
        "id": "Z6da87dUiAFo"
      }
    },
    {
      "cell_type": "code",
      "source": [
        "num1 = False\n",
        "num2 = True\n",
        "print(num1 and num2)\n",
        "\n",
        "num1 = True\n",
        "num2 = True\n",
        "print(num1 and num2)\n",
        "\n",
        "num1 = False\n",
        "num2 = True\n",
        "print(num1 and num2)\n",
        "\n",
        "num1 = False\n",
        "num2 = False\n",
        "print(num1 and num2)"
      ],
      "metadata": {
        "colab": {
          "base_uri": "https://localhost:8080/"
        },
        "id": "SU-K63wXiVB3",
        "outputId": "f68f9cd4-cae9-478f-85ea-3dede1af9a65"
      },
      "execution_count": null,
      "outputs": [
        {
          "output_type": "stream",
          "name": "stdout",
          "text": [
            "False\n",
            "True\n",
            "False\n",
            "False\n"
          ]
        }
      ]
    },
    {
      "cell_type": "code",
      "source": [
        "num1 = False\n",
        "num2 = True\n",
        "print(num1 or num2)\n",
        "\n",
        "num1 = True\n",
        "num2 = True\n",
        "print(num1 or num2)\n",
        "\n",
        "num1 = False\n",
        "num2 = True\n",
        "print(num1 or num2)\n",
        "\n",
        "num1 = False\n",
        "num2 = False\n",
        "print(num1 or num2)"
      ],
      "metadata": {
        "colab": {
          "base_uri": "https://localhost:8080/"
        },
        "id": "MW5Tr7urQ6GT",
        "outputId": "a133ce2a-fa07-4451-c395-71826be9d2a6"
      },
      "execution_count": null,
      "outputs": [
        {
          "output_type": "stream",
          "name": "stdout",
          "text": [
            "True\n",
            "True\n",
            "True\n",
            "False\n"
          ]
        }
      ]
    },
    {
      "cell_type": "code",
      "source": [
        "x = 100\n",
        "print(x != 100)\n",
        "\n",
        "\n"
      ],
      "metadata": {
        "colab": {
          "base_uri": "https://localhost:8080/"
        },
        "id": "k4wUG37Jh9w4",
        "outputId": "cd0a31d1-f70e-45eb-906d-5327a1f1aa91"
      },
      "execution_count": null,
      "outputs": [
        {
          "output_type": "stream",
          "name": "stdout",
          "text": [
            "False\n"
          ]
        }
      ]
    },
    {
      "cell_type": "code",
      "source": [
        "val = False\n",
        "print(not val)"
      ],
      "metadata": {
        "colab": {
          "base_uri": "https://localhost:8080/"
        },
        "id": "VzlHiS20iaHE",
        "outputId": "ce368483-6a4d-47cf-f4d0-8ebec689fce3"
      },
      "execution_count": null,
      "outputs": [
        {
          "output_type": "stream",
          "name": "stdout",
          "text": [
            "True\n"
          ]
        }
      ]
    },
    {
      "cell_type": "markdown",
      "source": [
        "# inbuild function in python"
      ],
      "metadata": {
        "id": "rW6fb3Niiez8"
      }
    },
    {
      "cell_type": "code",
      "source": [
        "a = True\n",
        "print(type(a))"
      ],
      "metadata": {
        "colab": {
          "base_uri": "https://localhost:8080/"
        },
        "id": "TRG2soo4id6w",
        "outputId": "2d9d5e42-f348-4444-bced-ee3624988ee0"
      },
      "execution_count": null,
      "outputs": [
        {
          "output_type": "stream",
          "name": "stdout",
          "text": [
            "<class 'bool'>\n"
          ]
        }
      ]
    },
    {
      "cell_type": "code",
      "source": [
        "\n",
        "b = \"45\"\n",
        "print(type(b))\n",
        "x = int(b)  # int() is a function to convert a value to integer.\n",
        "y = b*2\n",
        "\n",
        "print(y)\n",
        "\n",
        "y = x*2\n",
        "\n",
        "print(y)\n",
        "\n",
        "\n"
      ],
      "metadata": {
        "colab": {
          "base_uri": "https://localhost:8080/"
        },
        "id": "YZ7OXaBDijOb",
        "outputId": "856ab474-adb6-4e7c-b1b8-d396c6cdfddf"
      },
      "execution_count": null,
      "outputs": [
        {
          "output_type": "stream",
          "name": "stdout",
          "text": [
            "<class 'str'>\n",
            "4545\n",
            "90\n"
          ]
        }
      ]
    },
    {
      "cell_type": "code",
      "source": [
        "\n",
        "# Type conversion in python\n",
        "num = \"1234\"\n",
        "print(type(num))\n",
        "n = int(num)\n",
        "print(type(n))"
      ],
      "metadata": {
        "colab": {
          "base_uri": "https://localhost:8080/"
        },
        "id": "A9k4hur-imLp",
        "outputId": "59fae228-e696-4f2f-9281-e0d66d547ec2"
      },
      "execution_count": null,
      "outputs": [
        {
          "output_type": "stream",
          "name": "stdout",
          "text": [
            "<class 'str'>\n",
            "<class 'int'>\n"
          ]
        }
      ]
    },
    {
      "cell_type": "markdown",
      "source": [
        "# input function:\n",
        "The **input()** function in Python is used to accept user input from the keyboard. It allows the user to enter data during the execution of the program."
      ],
      "metadata": {
        "id": "unRKF8dniuq5"
      }
    },
    {
      "cell_type": "code",
      "source": [
        "# num = 5\n",
        "num1 = int(input(\"Enter some integer\"))  #prompt = to ask\n",
        "num2 = int(input(\"Enter a sencond number\"))\n",
        "sum = num1+num2\n",
        "print(sum)"
      ],
      "metadata": {
        "colab": {
          "base_uri": "https://localhost:8080/"
        },
        "id": "gm55zlEpirDw",
        "outputId": "cad6cdc8-7921-4d8e-8c2e-a4fe847c56cc"
      },
      "execution_count": null,
      "outputs": [
        {
          "output_type": "stream",
          "name": "stdout",
          "text": [
            "Enter some integer10\n",
            "Enter a sencond number20\n",
            "30\n"
          ]
        }
      ]
    },
    {
      "cell_type": "code",
      "source": [
        "num = input(\"Enter a number: \")\n",
        "num2 = input(\"Enter a number: \")\n",
        "\n",
        "num = float(num)\n",
        "\n",
        "num2 = float(num2)\n",
        "\n",
        "result=num+num2\n",
        "print(result)"
      ],
      "metadata": {
        "colab": {
          "base_uri": "https://localhost:8080/"
        },
        "id": "FWqoxvVviz2E",
        "outputId": "defb8b97-1372-4d5f-8d56-fa7cf39b4494"
      },
      "execution_count": null,
      "outputs": [
        {
          "output_type": "stream",
          "name": "stdout",
          "text": [
            "Enter a number: 10\n",
            "Enter a number: 20\n",
            "30.0\n"
          ]
        }
      ]
    },
    {
      "cell_type": "code",
      "source": [
        "num = input(\"Enter a number\")\n",
        "print(type(num))\n",
        "num = int(num)\n",
        "print(type(num))"
      ],
      "metadata": {
        "colab": {
          "base_uri": "https://localhost:8080/",
          "height": 228
        },
        "id": "71JLj75Ai2Vt",
        "outputId": "3294987b-693c-4f7d-cff3-3ff216413596"
      },
      "execution_count": null,
      "outputs": [
        {
          "output_type": "stream",
          "name": "stdout",
          "text": [
            "Enter a numberhhhh\n",
            "<class 'str'>\n"
          ]
        },
        {
          "output_type": "error",
          "ename": "ValueError",
          "evalue": "invalid literal for int() with base 10: 'hhhh'",
          "traceback": [
            "\u001b[0;31m---------------------------------------------------------------------------\u001b[0m",
            "\u001b[0;31mValueError\u001b[0m                                Traceback (most recent call last)",
            "\u001b[0;32m<ipython-input-42-f1ceba6a78d8>\u001b[0m in \u001b[0;36m<cell line: 0>\u001b[0;34m()\u001b[0m\n\u001b[1;32m      1\u001b[0m \u001b[0mnum\u001b[0m \u001b[0;34m=\u001b[0m \u001b[0minput\u001b[0m\u001b[0;34m(\u001b[0m\u001b[0;34m\"Enter a number\"\u001b[0m\u001b[0;34m)\u001b[0m\u001b[0;34m\u001b[0m\u001b[0;34m\u001b[0m\u001b[0m\n\u001b[1;32m      2\u001b[0m \u001b[0mprint\u001b[0m\u001b[0;34m(\u001b[0m\u001b[0mtype\u001b[0m\u001b[0;34m(\u001b[0m\u001b[0mnum\u001b[0m\u001b[0;34m)\u001b[0m\u001b[0;34m)\u001b[0m\u001b[0;34m\u001b[0m\u001b[0;34m\u001b[0m\u001b[0m\n\u001b[0;32m----> 3\u001b[0;31m \u001b[0mnum\u001b[0m \u001b[0;34m=\u001b[0m \u001b[0mint\u001b[0m\u001b[0;34m(\u001b[0m\u001b[0mnum\u001b[0m\u001b[0;34m)\u001b[0m\u001b[0;34m\u001b[0m\u001b[0;34m\u001b[0m\u001b[0m\n\u001b[0m\u001b[1;32m      4\u001b[0m \u001b[0mprint\u001b[0m\u001b[0;34m(\u001b[0m\u001b[0mtype\u001b[0m\u001b[0;34m(\u001b[0m\u001b[0mnum\u001b[0m\u001b[0;34m)\u001b[0m\u001b[0;34m)\u001b[0m\u001b[0;34m\u001b[0m\u001b[0;34m\u001b[0m\u001b[0m\n",
            "\u001b[0;31mValueError\u001b[0m: invalid literal for int() with base 10: 'hhhh'"
          ]
        }
      ]
    },
    {
      "cell_type": "code",
      "source": [
        "# Input: Ask the user to enter three numbers\n",
        "\n",
        "# Perform addition using the three input numbers\n",
        "\n",
        "# Divide the sum by the third user input number\n",
        "\n",
        "# Subtract the result of division from the sum\n",
        "\n",
        "# Check whether the result after subtraction is greater than or equal to the original sum or not\n"
      ],
      "metadata": {
        "id": "Ir2DuKLti2XE"
      },
      "execution_count": null,
      "outputs": []
    },
    {
      "cell_type": "markdown",
      "source": [
        "# Conditional Statements in Python\n",
        "* Conditional statements are used to execute actions or set of actions based on\n",
        "whether a condition is true or not.\n",
        "\n",
        "* Python primarily uses three types of conditional statements:\n",
        "1. if statements: An if statement is the most basic form of a conditional statement that executes a set of statements only if a condition is true.\n",
        "\n",
        "2. elif statements: The elif (else if) statement checks another condition if the previous if or elif conditions were not true.\n",
        "3. else statements: The else statement executes a block of code if none of the preceding conditions are true."
      ],
      "metadata": {
        "id": "7aauqWvNjqPT"
      }
    },
    {
      "cell_type": "code",
      "source": [
        "'''\n",
        "  if True or False:\n",
        "       block 1\n",
        "       print(\"First block\")\n",
        "\n",
        "  elif True or False:\n",
        "       block2\n",
        "       print(\"second block\")\n",
        "\n",
        "  elif True or False:\n",
        "       block 3\n",
        "       print(\"third block)\n",
        "\n",
        "  elif True or False:\n",
        "       block 4\n",
        "       print(\"4th block)\n",
        "\n",
        "  else:\n",
        "       block 5\n",
        "       print(\"5th block\")\n",
        "\n",
        "actual code continues...\n",
        "\n",
        "'''\n"
      ],
      "metadata": {
        "colab": {
          "base_uri": "https://localhost:8080/",
          "height": 53
        },
        "collapsed": true,
        "id": "vCF9WZlNi2ab",
        "outputId": "3e8a1908-2103-499e-ebf8-fe4967811506"
      },
      "execution_count": null,
      "outputs": [
        {
          "output_type": "execute_result",
          "data": {
            "text/plain": [
              "'\\n  if True or False:\\n       block 1\\n       print(\"First block\")\\n\\n  elif True or False:\\n       block2\\n       print(\"second block\")\\n\\n  elif True or False:\\n       block 3\\n       print(\"third block)\\n\\n  elif True or False:\\n       block 4\\n       print(\"4th block)\\n\\n  else:\\n       block 5\\n       print(\"5th block\")\\n\\nactual code continues...\\n\\n'"
            ],
            "application/vnd.google.colaboratory.intrinsic+json": {
              "type": "string"
            }
          },
          "metadata": {},
          "execution_count": 20
        }
      ]
    },
    {
      "cell_type": "code",
      "source": [
        "condition1 = False\n",
        "condition2 = True\n",
        "if not condition1:\n",
        "  print(\"Hi from If Block\")\n",
        "    # Execute this block if condition1 is true\n",
        "elif condition2:\n",
        "  print(\"Hi from ELif Block\")\n",
        "    # Execute this block if condition1 is not true and condition2 is true\n",
        "else:\n",
        "  print(\"Hello from Else Block\")\n",
        "    # Execute this block if none of the above conditions are true\n"
      ],
      "metadata": {
        "colab": {
          "base_uri": "https://localhost:8080/"
        },
        "id": "_dwVNzNfj6DD",
        "outputId": "9ccc8e19-b4fa-41f9-e0d6-be7ec87cbdaf"
      },
      "execution_count": null,
      "outputs": [
        {
          "output_type": "stream",
          "name": "stdout",
          "text": [
            "Hi from If Block\n"
          ]
        }
      ]
    },
    {
      "cell_type": "code",
      "source": [
        "'''if True or False:\n",
        "       print(if block)\n",
        "   else:\n",
        "       print(else block)\n",
        "'''\n"
      ],
      "metadata": {
        "id": "SCwbYUyyjt1R"
      },
      "execution_count": null,
      "outputs": []
    },
    {
      "cell_type": "code",
      "source": [
        "if False:\n",
        "  print(\"Hello\")\n",
        "  print(\"Hello\")\n",
        "else:\n",
        "  print(\"Bye\")\n",
        "\n",
        "\n"
      ],
      "metadata": {
        "colab": {
          "base_uri": "https://localhost:8080/"
        },
        "id": "1s4z7Gzoj3AB",
        "outputId": "07d29a71-d1f8-4f85-8d34-fd105d904e1e"
      },
      "execution_count": null,
      "outputs": [
        {
          "output_type": "stream",
          "name": "stdout",
          "text": [
            "Bye\n"
          ]
        }
      ]
    },
    {
      "cell_type": "code",
      "source": [
        "number = float(input(\"Enter a number: \"))\n",
        "\n",
        "if number > 0:\n",
        "    print(\"The number is positive.\")\n",
        "elif number == 0:\n",
        "    print(\"The number is zero.\")\n",
        "else:\n",
        "    print(\"The number is negative.\")\n"
      ],
      "metadata": {
        "colab": {
          "base_uri": "https://localhost:8080/"
        },
        "id": "MMXmJopEoRn5",
        "outputId": "6e207fd8-5056-4746-d4c1-e481574e0947"
      },
      "execution_count": null,
      "outputs": [
        {
          "output_type": "stream",
          "name": "stdout",
          "text": [
            "Enter a number: 2\n",
            "The number is positive.\n"
          ]
        }
      ]
    },
    {
      "cell_type": "code",
      "source": [
        "age = int(input(\"Enter your age: \"))\n",
        "\n",
        "if age < 13:\n",
        "    print(\"You are a child.\")\n",
        "elif age < 20:\n",
        "    print(\"You are a teenager.\")\n",
        "elif age < 60:\n",
        "    print(\"You are an adult.\")\n",
        "else:\n",
        "    print(\"You are a senior.\")\n"
      ],
      "metadata": {
        "colab": {
          "base_uri": "https://localhost:8080/"
        },
        "id": "Sc08H9dSoUm3",
        "outputId": "0d712d17-52c0-466e-ffbe-a2e8ae55c6d5"
      },
      "execution_count": null,
      "outputs": [
        {
          "output_type": "stream",
          "name": "stdout",
          "text": [
            "Enter your age: 12\n",
            "You are a child.\n"
          ]
        }
      ]
    },
    {
      "cell_type": "code",
      "source": [
        "'''Develop a Python program that reads a student’s percentage score from the input, then prints out their grade according to the following scale:\n",
        "\n",
        "90% and above:  Grade A\n",
        "80-89%          Grade B\n",
        "70%-79%         Grade C\n",
        "60%-69%:        Grade D\n",
        "Below 60%:      Grade F\n",
        "\n",
        "Task Instructions:\n",
        "Ask the user to input their percentage score (it can be a floating-point value).\n",
        "Use conditional statements (if, elif, else) to determine the grade based on the score entered.\n",
        "Print the appropriate grade based on these conditions.'''"
      ],
      "metadata": {
        "id": "lVlFJl0HoXLW"
      },
      "execution_count": null,
      "outputs": []
    },
    {
      "cell_type": "code",
      "source": [
        "grade=90\n",
        "if grade >= 90 and grade <=100:\n",
        "  print(\"Grade A\")\n",
        "elif grade >= 80 and grade <= 89:\n",
        "  print(\"Grade B\")\n",
        "elif grade >= 70 and grade <= 79:\n",
        "  print(\"Grade C\")\n",
        "elif grade >= 60 and grade <= 69:\n",
        "  print(\"Grade D\")\n",
        "else:\n",
        "  print(\"Grade E\")"
      ],
      "metadata": {
        "colab": {
          "base_uri": "https://localhost:8080/"
        },
        "id": "UIh624JBoaEI",
        "outputId": "d340d8e2-43d3-41e0-dcdd-3dd4ce56c908"
      },
      "execution_count": null,
      "outputs": [
        {
          "output_type": "stream",
          "name": "stdout",
          "text": [
            "Grade A\n"
          ]
        }
      ]
    },
    {
      "cell_type": "code",
      "source": [
        "score = float(input(\"Enter your score: \"))\n",
        "\n",
        "if score >= 50:\n",
        "    print(\"Congratulations, you have passed!\")\n",
        "    if score >= 90:\n",
        "        print(\"You scored an A!\")\n",
        "    elif score >= 75:\n",
        "        print(\"You scored a B!\")\n",
        "    else:\n",
        "        print(\"You scored a C!\")\n",
        "else:\n",
        "    print(\"Sorry, you have failed.\")\n"
      ],
      "metadata": {
        "colab": {
          "base_uri": "https://localhost:8080/"
        },
        "id": "0A_wvEfvodnj",
        "outputId": "6099841a-460e-4d26-b4ba-ad7027be7bcf"
      },
      "execution_count": null,
      "outputs": [
        {
          "output_type": "stream",
          "name": "stdout",
          "text": [
            "Enter your score: 10.5\n",
            "Sorry, you have failed.\n"
          ]
        }
      ]
    },
    {
      "cell_type": "markdown",
      "source": [
        "For loops in Python are used to iterate over a sequence (like a list, tuple, string, etc.) and execute a block of code for each item in the sequence.\n"
      ],
      "metadata": {
        "id": "c_57TttHoolU"
      }
    },
    {
      "cell_type": "code",
      "source": [
        "for i in range(5,101,5):\n",
        "    print(i)\n",
        "\n",
        "\n"
      ],
      "metadata": {
        "colab": {
          "base_uri": "https://localhost:8080/"
        },
        "id": "FA5p6c_jpDKR",
        "outputId": "b55fc05c-3279-4b90-ce01-804b85dff4e9"
      },
      "execution_count": null,
      "outputs": [
        {
          "output_type": "stream",
          "name": "stdout",
          "text": [
            "5\n",
            "10\n",
            "15\n",
            "20\n",
            "25\n",
            "30\n",
            "35\n",
            "40\n",
            "45\n",
            "50\n",
            "55\n",
            "60\n",
            "65\n",
            "70\n",
            "75\n",
            "80\n",
            "85\n",
            "90\n",
            "95\n",
            "100\n"
          ]
        }
      ]
    },
    {
      "cell_type": "code",
      "source": [
        "#About Range() function\n",
        "# Example 3: Using range() function\n",
        "\n",
        "\n",
        "for i in range(9,100,10):\n",
        "    print(i)\n"
      ],
      "metadata": {
        "colab": {
          "base_uri": "https://localhost:8080/"
        },
        "id": "2qV2Goy0ojA0",
        "outputId": "6464f71e-33a6-47dc-a112-0f7441a8cc98"
      },
      "execution_count": null,
      "outputs": [
        {
          "output_type": "stream",
          "name": "stdout",
          "text": [
            "9\n",
            "19\n",
            "29\n",
            "39\n",
            "49\n",
            "59\n",
            "69\n",
            "79\n",
            "89\n",
            "99\n"
          ]
        }
      ]
    },
    {
      "cell_type": "code",
      "source": [
        "\n",
        "# Example 4: Using range() with start, stop, and step\n",
        "for i in range(1, 12, 2):\n",
        "    print(i*i)\n",
        "\n"
      ],
      "metadata": {
        "colab": {
          "base_uri": "https://localhost:8080/"
        },
        "id": "7pERrdCOo_0b",
        "outputId": "29788a12-0b41-4bc8-ef5e-727d79c85ca9"
      },
      "execution_count": null,
      "outputs": [
        {
          "output_type": "stream",
          "name": "stdout",
          "text": [
            "1\n",
            "9\n",
            "25\n",
            "49\n",
            "81\n",
            "121\n"
          ]
        }
      ]
    },
    {
      "cell_type": "code",
      "source": [
        "\n",
        "# Example 5: Nested loops\n",
        "for i in range(3):   #[0,1,2]\n",
        "    for j in range(2): #[0,1]\n",
        "        print('i =', i, 'j =',j)\n"
      ],
      "metadata": {
        "colab": {
          "base_uri": "https://localhost:8080/"
        },
        "id": "jh8CVeyDpHpx",
        "outputId": "9480e78e-bcef-4c3b-81d4-8253d666a5fd"
      },
      "execution_count": null,
      "outputs": [
        {
          "output_type": "stream",
          "name": "stdout",
          "text": [
            "i = 0 j = 0\n",
            "i = 0 j = 1\n",
            "i = 1 j = 0\n",
            "i = 1 j = 1\n",
            "i = 2 j = 0\n",
            "i = 2 j = 1\n"
          ]
        }
      ]
    },
    {
      "cell_type": "code",
      "source": [
        "# Break and Continue\n",
        "for i in range(10,-1,-1):\n",
        "  # if i%2==0:\n",
        "  #   continue\n",
        "  print(i)\n",
        "\n",
        "\n",
        "# for i in range(10000):\n",
        "#   # if i%2==0:\n",
        "#   #   continue\n",
        "#   print(i)"
      ],
      "metadata": {
        "colab": {
          "base_uri": "https://localhost:8080/"
        },
        "id": "ZZrnWYOnZvkZ",
        "outputId": "5601d6dd-d0dc-4954-c940-9ebe149bf8a3"
      },
      "execution_count": null,
      "outputs": [
        {
          "output_type": "stream",
          "name": "stdout",
          "text": [
            "10\n",
            "9\n",
            "8\n",
            "7\n",
            "6\n",
            "5\n",
            "4\n",
            "3\n",
            "2\n",
            "1\n",
            "0\n"
          ]
        }
      ]
    },
    {
      "cell_type": "markdown",
      "source": [
        "'''\n",
        "\n",
        "initialization\n",
        "while condition\n",
        "   block of code\n",
        "   increment/decrement\n",
        "\n",
        "\n",
        "'''"
      ],
      "metadata": {
        "id": "uJxvQ0SEpZuJ"
      }
    },
    {
      "cell_type": "code",
      "source": [
        "# Simple program to count from 1 to 5 using a while loop\n",
        "\n",
        "count = 1\n",
        "\n",
        "print(\"Counting from 1 to 5:\")\n",
        "while count <= 5:\n",
        "    print(count)\n",
        "    count = count + 1\n"
      ],
      "metadata": {
        "colab": {
          "base_uri": "https://localhost:8080/"
        },
        "id": "lp1RPMjypI_9",
        "outputId": "4f9a02d8-d834-43c0-e96d-94a625698472"
      },
      "execution_count": null,
      "outputs": [
        {
          "output_type": "stream",
          "name": "stdout",
          "text": [
            "Counting from 1 to 5:\n",
            "1\n",
            "2\n",
            "3\n",
            "4\n",
            "5\n"
          ]
        }
      ]
    },
    {
      "cell_type": "code",
      "source": [
        "# Simple program to count from 5 to 1  using a while loop\n",
        "num = 40\n",
        "print(\"Countdown from\", num, \"to 0:\")\n",
        "while num >= 0:\n",
        "    print(num)\n",
        "    num = num - 1\n"
      ],
      "metadata": {
        "colab": {
          "base_uri": "https://localhost:8080/"
        },
        "id": "dd5VKI-DpeMD",
        "outputId": "42ff6900-c21f-435b-8089-b31a0a0e5863"
      },
      "execution_count": null,
      "outputs": [
        {
          "output_type": "stream",
          "name": "stdout",
          "text": [
            "Countdown from 40 to 0:\n",
            "40\n",
            "39\n",
            "38\n",
            "37\n",
            "36\n",
            "35\n",
            "34\n",
            "33\n",
            "32\n",
            "31\n",
            "30\n",
            "29\n",
            "28\n",
            "27\n",
            "26\n",
            "25\n",
            "24\n",
            "23\n",
            "22\n",
            "21\n",
            "20\n",
            "19\n",
            "18\n",
            "17\n",
            "16\n",
            "15\n",
            "14\n",
            "13\n",
            "12\n",
            "11\n",
            "10\n",
            "9\n",
            "8\n",
            "7\n",
            "6\n",
            "5\n",
            "4\n",
            "3\n",
            "2\n",
            "1\n",
            "0\n"
          ]
        }
      ]
    },
    {
      "cell_type": "code",
      "source": [
        "while(True):\n",
        "  print(\"Hello world\")"
      ],
      "metadata": {
        "id": "axT-44sbpkag"
      },
      "execution_count": null,
      "outputs": []
    },
    {
      "cell_type": "markdown",
      "source": [
        "# **Functions In Python**\n",
        "\n",
        "*   If we want to use a piece/block of code at different places in our program or if we want to use a particular code repeatedly in our code then we should define that code inside a function.\n",
        "\n",
        "*   Whenever we need that code then we can call that function so that the particular code will get executed.\n",
        "\n"
      ],
      "metadata": {
        "id": "iPhLd9v-prJk"
      }
    },
    {
      "cell_type": "code",
      "source": [
        "# Define a simple function\n",
        "def greet():\n",
        "    print(\"Hello, World!\")\n",
        "\n",
        "# # Call the function\n",
        "# greet()\n"
      ],
      "metadata": {
        "id": "ANVfggLTpnIN"
      },
      "execution_count": null,
      "outputs": []
    },
    {
      "cell_type": "code",
      "source": [
        "greet()"
      ],
      "metadata": {
        "colab": {
          "base_uri": "https://localhost:8080/"
        },
        "id": "e5zIOGkDpxV1",
        "outputId": "fa739ce7-7a4c-4385-c969-4a444fb88483"
      },
      "execution_count": null,
      "outputs": [
        {
          "output_type": "stream",
          "name": "stdout",
          "text": [
            "Hello, World!\n"
          ]
        }
      ]
    },
    {
      "cell_type": "code",
      "source": [
        "# Define a function with parameters\n",
        "def greet(name):\n",
        "    print(\"Hello!\",name)\n",
        "\n",
        "# Call the function with an argument\n",
        "greet(\"harshit\")\n"
      ],
      "metadata": {
        "colab": {
          "base_uri": "https://localhost:8080/"
        },
        "id": "zclPSiT9pz5a",
        "outputId": "dc0f3730-dedf-4fc9-8042-caef5ad843e8"
      },
      "execution_count": null,
      "outputs": [
        {
          "output_type": "stream",
          "name": "stdout",
          "text": [
            "Hello! harshit\n"
          ]
        }
      ]
    },
    {
      "cell_type": "code",
      "source": [
        "# Define a function that returns a value\n",
        "def add(a, b):\n",
        "    return a + b\n",
        "\n",
        "# Call the function and store the result in a variable\n",
        "result = add(3, 5)\n",
        "print(\"The sum is\",result)\n"
      ],
      "metadata": {
        "colab": {
          "base_uri": "https://localhost:8080/"
        },
        "id": "bAI66RIbp2VD",
        "outputId": "0e609761-b925-4bad-ab04-5736908688fe"
      },
      "execution_count": null,
      "outputs": [
        {
          "output_type": "stream",
          "name": "stdout",
          "text": [
            "The sum is 8\n"
          ]
        }
      ]
    },
    {
      "cell_type": "code",
      "source": [
        "# Define a function with a default parameter value\n",
        "def greet(name=\"Guest\"):\n",
        "    print(\"Hello!\",name)\n",
        "\n",
        "\n",
        "# Call the function without arguments\n",
        "greet()\n",
        "\n",
        "# # Call the function with an argument\n",
        "greet(\"Alice\")\n"
      ],
      "metadata": {
        "colab": {
          "base_uri": "https://localhost:8080/"
        },
        "id": "0GC6ZJQFp6Wp",
        "outputId": "43dca4eb-0b31-4f3e-f921-dbbcfc760930"
      },
      "execution_count": null,
      "outputs": [
        {
          "output_type": "stream",
          "name": "stdout",
          "text": [
            "Hello! Guest\n",
            "Hello! Alice\n"
          ]
        }
      ]
    },
    {
      "cell_type": "code",
      "source": [
        "# Define a function with multiple parameters\n",
        "def describe_pet(pet_name, animal_type=\"dog\"):\n",
        "    print(\"I have a \",animal_type)\n",
        "    print(\"My\",animal_type,\"s name is\",pet_name)\n",
        "\n",
        "# Call the function with positional arguments\n",
        "describe_pet(\"charlie\")\n",
        "\n",
        "# Call the function with keyword arguments\n",
        "describe_pet(pet_name=\"Whiskers\", animal_type=\"cat\")\n"
      ],
      "metadata": {
        "colab": {
          "base_uri": "https://localhost:8080/"
        },
        "id": "baLGDkhyp9lW",
        "outputId": "76a454c2-7430-4492-c309-af9bcccea0f5"
      },
      "execution_count": null,
      "outputs": [
        {
          "output_type": "stream",
          "name": "stdout",
          "text": [
            "I have a  dog\n",
            "My dog s name is charlie\n",
            "I have a  cat\n",
            "My cat s name is Whiskers\n"
          ]
        }
      ]
    },
    {
      "cell_type": "code",
      "source": [
        "# Define a function that takes a variable number of arguments\n",
        "def make_sum(*nums):\n",
        "    n = len(nums)\n",
        "    sum = 0\n",
        "    for i in range(len(nums)):\n",
        "      sum = sum + nums[i]\n",
        "    mul=1\n",
        "    for i in range(n):\n",
        "      mul = mul * nums[i]\n",
        "    return sum ,mul\n",
        "\n",
        "# Call the function with different numbers of arguments\n",
        "print(make_sum(10.5))\n",
        "print(make_sum(10.5,20.5,30.2))\n",
        "\n"
      ],
      "metadata": {
        "colab": {
          "base_uri": "https://localhost:8080/"
        },
        "id": "f6UgOH1rqBJ9",
        "outputId": "d6507820-4246-4ea9-83be-796fa3cce3d8"
      },
      "execution_count": null,
      "outputs": [
        {
          "output_type": "stream",
          "name": "stdout",
          "text": [
            "(10.5, 10.5)\n",
            "(61.2, 6500.55)\n"
          ]
        }
      ]
    },
    {
      "cell_type": "code",
      "source": [
        "# Define a function to generate Fibonacci sequence\n",
        "def fibonacci(n):\n",
        "    sequence = []\n",
        "    a, b = 0, 1\n",
        "    sequence.append(a)\n",
        "    sequence.append(b)\n",
        "    for i in range(2,n):\n",
        "        a, b = b, a + b\n",
        "        sequence.append(b)\n",
        "    return sequence\n",
        "\n",
        "# Test the Fibonacci function\n",
        "print(fibonacci(10))  # Output: [0, 1, 1, 2, 3, 5, 8, 13, 21, 34]\n"
      ],
      "metadata": {
        "colab": {
          "base_uri": "https://localhost:8080/"
        },
        "id": "RJpzvKt6qEY_",
        "outputId": "7de9c0b2-2cb3-4856-81b9-c7273c8afc6f"
      },
      "execution_count": null,
      "outputs": [
        {
          "output_type": "stream",
          "name": "stdout",
          "text": [
            "[0, 1, 1, 2, 3, 5, 8, 13, 21, 34]\n"
          ]
        }
      ]
    },
    {
      "cell_type": "code",
      "source": [
        "def is_prime(n):\n",
        "  if(n<=1):\n",
        "    return False\n",
        "  else:\n",
        "    for i in range(2,n):\n",
        "      if(n%i==0):\n",
        "        return False\n",
        "    return True\n",
        "\n",
        "print(is_prime(-5))\n",
        "print(is_prime(4))\n",
        "print(is_prime(7))\n",
        "print(is_prime(13))"
      ],
      "metadata": {
        "colab": {
          "base_uri": "https://localhost:8080/"
        },
        "id": "4bQroURVqGXI",
        "outputId": "919d3b84-16d2-4cd0-c6cc-2f1ed9bb5995"
      },
      "execution_count": null,
      "outputs": [
        {
          "output_type": "stream",
          "name": "stdout",
          "text": [
            "False\n",
            "False\n",
            "True\n",
            "True\n"
          ]
        }
      ]
    },
    {
      "cell_type": "code",
      "source": [
        "#Palindrome check\n",
        "def palindrome_check(s):\n",
        "  n = len(s) # no of letter is 6\n",
        "  i=0\n",
        "  j=n-1\n",
        "  while(i<=j):\n",
        "    if(s[i] != s[j]):\n",
        "      return False\n",
        "    else:\n",
        "      i=i+1\n",
        "      j=j-1\n",
        "  return True\n",
        "\n",
        "print(palindrome_check(\"banana\"))\n",
        "print(palindrome_check(\"MOM\"))\n"
      ],
      "metadata": {
        "colab": {
          "base_uri": "https://localhost:8080/"
        },
        "id": "WI9EkurVqKBV",
        "outputId": "e74512b0-bc01-4295-f351-c34e74f420f4"
      },
      "execution_count": null,
      "outputs": [
        {
          "output_type": "stream",
          "name": "stdout",
          "text": [
            "False\n",
            "True\n"
          ]
        }
      ]
    },
    {
      "cell_type": "markdown",
      "source": [
        "# **Advanced Data Types in Python**\n",
        "\n",
        "\n",
        "\n",
        "1.   **List**\n",
        "2.   **Tuple**\n",
        "3.   **Set**\n",
        "4.   **Dictionary**\n",
        "\n",
        "\n",
        "# Introduction to Python Lists\n",
        "\n",
        "\n",
        "\n",
        "In Python, a list is a collection of items that are ordered and changeable. Lists are one of the most versatile data types in Python and are used to store multiple items in a single variable.\n",
        "\n",
        "### Creating a List\n",
        "\n",
        "1.   List item\n",
        "2.   List item\n",
        "\n",
        "\n",
        "You can create a list by placing a sequence of comma-separated items inside square brackets [ ]\n"
      ],
      "metadata": {
        "id": "dovSqbr7qMX1"
      }
    },
    {
      "cell_type": "code",
      "source": [
        "list1=[]\n",
        "\n",
        "print(type(list1))\n",
        "list1.append(5)\n",
        "print(list1)\n",
        "list1.append(2)\n",
        "\n",
        "print(list1)"
      ],
      "metadata": {
        "colab": {
          "base_uri": "https://localhost:8080/"
        },
        "id": "TUSqlOfCtysw",
        "outputId": "b1547a6d-7d76-4aff-802f-4f09ddb0bd66"
      },
      "execution_count": null,
      "outputs": [
        {
          "output_type": "stream",
          "name": "stdout",
          "text": [
            "<class 'list'>\n",
            "[5]\n",
            "[5, 2]\n"
          ]
        }
      ]
    },
    {
      "cell_type": "code",
      "source": [
        "# Creating a list of fruits\n",
        "fruits = [\"apple\", \"banana\", \"orange\", \"grape\"]\n",
        "# Accessing the first element of the list\n",
        "#apple  - 0\n",
        "#banana - 1\n",
        "#orange - 2\n",
        "#grape  - 3\n",
        "\n",
        "print(fruits[-1])\n",
        "\n",
        "\n",
        "print(fruits)\n",
        "print(fruits[-1])\n",
        "print(fruits[-2])\n",
        "print(fruits[-3])\n",
        "print(fruits[-4])\n",
        "\n",
        "fruits[1]=\"Melon\"\n",
        "print(fruits)\n",
        "\n",
        "\n"
      ],
      "metadata": {
        "colab": {
          "base_uri": "https://localhost:8080/"
        },
        "id": "FSqDn8_at24q",
        "outputId": "832e87c6-5146-487e-d663-dca26f0c5a8c"
      },
      "execution_count": null,
      "outputs": [
        {
          "output_type": "stream",
          "name": "stdout",
          "text": [
            "grape\n",
            "['apple', 'banana', 'orange', 'grape']\n",
            "grape\n",
            "orange\n",
            "banana\n",
            "apple\n",
            "['apple', 'Melon', 'orange', 'grape']\n"
          ]
        }
      ]
    },
    {
      "cell_type": "code",
      "source": [
        "# Heterogeneous nature in Lists\n",
        "numbers = [1, 2, 3, 4, 5, \"python\",10.98]\n",
        "print(numbers)"
      ],
      "metadata": {
        "colab": {
          "base_uri": "https://localhost:8080/"
        },
        "id": "kydMyASEt5IZ",
        "outputId": "4ccd44bc-c536-4470-d7d2-98f97750db83"
      },
      "execution_count": null,
      "outputs": [
        {
          "output_type": "stream",
          "name": "stdout",
          "text": [
            "[1, 2, 3, 4, 5, 'python', 10.98]\n"
          ]
        }
      ]
    },
    {
      "cell_type": "markdown",
      "source": [
        "### Modifying Elements in a List\n",
        "Lists are mutable, which means you can change the values of individual elements."
      ],
      "metadata": {
        "id": "8u6C5B5juEry"
      }
    },
    {
      "cell_type": "code",
      "source": [
        "fruits = [\"apple\", \"banana\", \"orange\", \"grape\"]\n",
        "# Changing the second element of the list\n",
        "fruits[1] = \"kiwi\"\n",
        "print(fruits)"
      ],
      "metadata": {
        "colab": {
          "base_uri": "https://localhost:8080/"
        },
        "id": "D6TTuoUAuBjR",
        "outputId": "16598d87-d79d-4011-9425-95e57cfc7395"
      },
      "execution_count": null,
      "outputs": [
        {
          "output_type": "stream",
          "name": "stdout",
          "text": [
            "['apple', 'kiwi', 'orange', 'grape']\n"
          ]
        }
      ]
    },
    {
      "cell_type": "code",
      "source": [
        "# Adding a new fruit to the end of the list\n",
        "fruits.append(\"mango\")\n",
        "print(fruits)"
      ],
      "metadata": {
        "colab": {
          "base_uri": "https://localhost:8080/"
        },
        "id": "wraVJoWEuHf5",
        "outputId": "1c5997bc-5b57-418f-b79d-33190f3999b6"
      },
      "execution_count": null,
      "outputs": [
        {
          "output_type": "stream",
          "name": "stdout",
          "text": [
            "['apple', 'kiwi', 'orange', 'grape', 'mango']\n"
          ]
        }
      ]
    },
    {
      "cell_type": "code",
      "source": [
        "# Removing \"orange\" from the list\n",
        "# fruits.remove(\"orange\")\n",
        "# fruits.remove(\"grape\")        # fruits -> List      remove() -> Function      \"orange\" -> string parameter/argument\n",
        "print(fruits)\n",
        "\n",
        "fruits.insert(5,\"Hhhhhaaaa\")\n",
        "print(fruits)"
      ],
      "metadata": {
        "colab": {
          "base_uri": "https://localhost:8080/"
        },
        "id": "gbrmK671uMEq",
        "outputId": "ff7f3795-19f6-4c63-8fb8-51d6d58be1e0"
      },
      "execution_count": null,
      "outputs": [
        {
          "output_type": "stream",
          "name": "stdout",
          "text": [
            "['apple', 'kiwi', 'Hhhhh', 'mango', 'Hhhhh']\n",
            "['apple', 'kiwi', 'Hhhhh', 'mango', 'Hhhhh', 'Hhhhhaaaa']\n"
          ]
        }
      ]
    },
    {
      "cell_type": "code",
      "source": [
        "# Removing the second fruit from the list\n",
        "removed_fruit = fruits.pop(1)      # removed_fruit -> variable\n",
        "print('removed fruit is: ',removed_fruit)\n",
        "print('list after poping: ', fruits)"
      ],
      "metadata": {
        "colab": {
          "base_uri": "https://localhost:8080/"
        },
        "id": "ut-8XWJtuOkC",
        "outputId": "79240e46-25a7-47f9-a7bd-476b1fe252ab"
      },
      "execution_count": null,
      "outputs": [
        {
          "output_type": "stream",
          "name": "stdout",
          "text": [
            "removed fruit is:  mango\n",
            "list after poping:  ['apple', 'Hhhhh', 'Hhhhhaaaa']\n"
          ]
        }
      ]
    },
    {
      "cell_type": "markdown",
      "source": [
        "### List Length\n",
        "You can find the number of items in a list using the **len()** function"
      ],
      "metadata": {
        "id": "b7ANk_LiuR_0"
      }
    },
    {
      "cell_type": "code",
      "source": [
        "# Finding the number of fruits in the list\n",
        "fruits = [\"apple\", \"banana\", \"orange\", \"grape\"]\n",
        "num_fruits = len(fruits)\n",
        "print(num_fruits)"
      ],
      "metadata": {
        "id": "ch1vONfXuS1l",
        "colab": {
          "base_uri": "https://localhost:8080/"
        },
        "outputId": "44c0f95b-4597-4392-c428-d88767c0d5de"
      },
      "execution_count": null,
      "outputs": [
        {
          "output_type": "stream",
          "name": "stdout",
          "text": [
            "4\n"
          ]
        }
      ]
    },
    {
      "cell_type": "markdown",
      "source": [
        "## Class Work\n",
        "*   Create a list of 10 numbers as per your choice\n",
        "*   Add your name in the last of the list\n",
        "*   Remove the element at 3rd position starting from beginning\n",
        "*   Exchange or swap the element that are at the last and the first position\n",
        "*   Get the total number of elements in the list\n",
        "\n",
        "\n",
        "\n",
        "\n",
        "\n",
        "\n",
        "\n"
      ],
      "metadata": {
        "id": "YbZZqV5Nudt4"
      }
    },
    {
      "cell_type": "code",
      "source": [
        "# Your code starts here\n",
        "\n",
        "numbers = [1, 2, 12, 19, 17, 36, 99,3434, 101, 21]\n",
        "print(\"list:\", numbers)\n",
        "numbers.append('Mashdemy')\n",
        "print(\"list:\", numbers)\n",
        "numbers.pop(2)\n",
        "print(\"list:\", numbers)\n",
        "\n",
        "\n",
        "numbers[0], numbers[-1] = numbers[-1], numbers[0]\n",
        "print(\"list:\", numbers)\n",
        "numbers[0], numbers[len(numbers)-1] = numbers[len(numbers)-1], numbers[0]\n",
        "\n",
        "temp=numbers[0]\n",
        "numbers[0]=numbers[-1]\n",
        "numbers[-1]=temp\n",
        "\n",
        "print(\"list:\", numbers)\n",
        "total_elements = len(numbers)\n",
        "print(\"number of elements:\", total_elements)\n",
        "\n",
        "\n",
        "\n"
      ],
      "metadata": {
        "id": "HOtd3FypuXlN",
        "colab": {
          "base_uri": "https://localhost:8080/"
        },
        "outputId": "bd6006b4-08e3-45b5-8e79-d851d29a121a"
      },
      "execution_count": null,
      "outputs": [
        {
          "output_type": "stream",
          "name": "stdout",
          "text": [
            "list: [1, 2, 12, 19, 17, 36, 99, 3434, 101, 21]\n",
            "list: [1, 2, 12, 19, 17, 36, 99, 3434, 101, 21, 'Mashdemy']\n",
            "list: [1, 2, 19, 17, 36, 99, 3434, 101, 21, 'Mashdemy']\n",
            "list: ['Mashdemy', 2, 19, 17, 36, 99, 3434, 101, 21, 1]\n",
            "list: ['Mashdemy', 2, 19, 17, 36, 99, 3434, 101, 21, 1]\n",
            "number of elements: 10\n"
          ]
        }
      ]
    },
    {
      "cell_type": "code",
      "source": [
        "# Define a list\n",
        "numbers = [1, 2, 3, 4, 5]\n",
        "\n",
        "# Inserting the number 6 at index 2\n",
        "# name_of_list.insert(index_no,Element)\n",
        "numbers.insert(2, 6)\n",
        "\n",
        "print(numbers)"
      ],
      "metadata": {
        "id": "2As0VxSTuh3Q",
        "colab": {
          "base_uri": "https://localhost:8080/"
        },
        "outputId": "8c6a14fd-512f-45e1-f21b-3e30322827a5"
      },
      "execution_count": null,
      "outputs": [
        {
          "output_type": "stream",
          "name": "stdout",
          "text": [
            "[1, 2, 6, 3, 4, 5]\n"
          ]
        }
      ]
    },
    {
      "cell_type": "code",
      "source": [
        "# Define a list\n",
        "numbers = [3, 1, 4, 1, 5, 9, 2, 6]\n",
        "\n",
        "# Sort the list\n",
        "sorted_numbers_1 = sorted(numbers)\n",
        "print('Sorted list: ', sorted_numbers_1)\n",
        "sorted_numbers = sorted(numbers, reverse = True)\n",
        "print('Sorted list: ', sorted_numbers)\n",
        "\n",
        "\n",
        "# #Printing the new list\n",
        "# print('Sorted list: ', sorted_numbers)\n",
        "# print('Sorted list: ', sorted_numbers_1)\n",
        "# print(numbers)"
      ],
      "metadata": {
        "colab": {
          "base_uri": "https://localhost:8080/"
        },
        "id": "OEKrW7b1ulIW",
        "outputId": "46f3cb02-2abf-41b8-86f4-b4265742a8cd"
      },
      "execution_count": null,
      "outputs": [
        {
          "output_type": "stream",
          "name": "stdout",
          "text": [
            "Sorted list:  [1, 1, 2, 3, 4, 5, 6, 9]\n",
            "Sorted list:  [9, 6, 5, 4, 3, 2, 1, 1]\n"
          ]
        }
      ]
    },
    {
      "cell_type": "code",
      "source": [
        "# Define a list\n",
        "numbers = [3, 1, 4, 1, 5, 9, 2, 6]\n",
        "print(numbers)\n",
        "# Sort the list in place\n",
        "numbers.sort()\n",
        "\n",
        "# numbers.reverse()\n",
        "\n",
        "#printing the list\n",
        "print(\"Sorted list:\", numbers)\n"
      ],
      "metadata": {
        "colab": {
          "base_uri": "https://localhost:8080/"
        },
        "id": "Yv5I98Eounjs",
        "outputId": "fc75b994-2c9d-448d-a978-79a2bfa67a4c"
      },
      "execution_count": null,
      "outputs": [
        {
          "output_type": "stream",
          "name": "stdout",
          "text": [
            "[3, 1, 4, 1, 5, 9, 2, 6]\n",
            "Sorted list: [1, 1, 2, 3, 4, 5, 6, 9]\n"
          ]
        }
      ]
    },
    {
      "cell_type": "code",
      "source": [
        "# Define a list\n",
        "numbers = [100, 2, 3, 4, 5, 9, 6, 37, 27]\n",
        "\n",
        "# Reverse the list\n",
        "numbers.reverse()\n",
        "\n",
        "\n",
        "print(\"Reversed list:\", numbers)"
      ],
      "metadata": {
        "colab": {
          "base_uri": "https://localhost:8080/"
        },
        "id": "pzhdBWyxuqzn",
        "outputId": "97ab446a-f4d6-424a-f48b-054337440d18"
      },
      "execution_count": null,
      "outputs": [
        {
          "output_type": "stream",
          "name": "stdout",
          "text": [
            "Reversed list: [27, 37, 6, 9, 5, 4, 3, 2, 100]\n"
          ]
        }
      ]
    },
    {
      "cell_type": "markdown",
      "source": [
        "### List Slicing in Python\n",
        "List slicing is a technique in Python that allows you to extract a portion of a list by specifying a range of indices. It provides a way to create a new list containing a subset of elements from an existing list.\n",
        "\n",
        "The syntax for list slicing is as follows:\n",
        "\n",
        "*   **new_list = old_list[start_index:end_index]**\n",
        "\n",
        "\n"
      ],
      "metadata": {
        "id": "ddnUPHUWuuaT"
      }
    },
    {
      "cell_type": "code",
      "source": [
        "# Define a list\n",
        "numbers = [1, 2, 3, 4, 5, 6, 7, 8, 9, 10]\n",
        "\n",
        "# Extract the elements from index 2 to index 5 (exclusive)\n",
        "#numbers[n:m]  - > get all values from n to m-1\n",
        "subset = numbers[0:7:2]\n",
        "\n",
        "\n",
        "print(subset)"
      ],
      "metadata": {
        "colab": {
          "base_uri": "https://localhost:8080/"
        },
        "id": "IJQ5hEB3uvXm",
        "outputId": "871f2cc4-7247-4eba-9484-7bf1e1e48795"
      },
      "execution_count": null,
      "outputs": [
        {
          "output_type": "stream",
          "name": "stdout",
          "text": [
            "[1, 3, 5, 7]\n"
          ]
        }
      ]
    },
    {
      "cell_type": "code",
      "source": [
        "#slicing from the beginning\n",
        "subset = numbers[:5]\n",
        "print(subset)"
      ],
      "metadata": {
        "colab": {
          "base_uri": "https://localhost:8080/"
        },
        "id": "k-5Ci1YPuy9T",
        "outputId": "b1837672-60b2-477b-962a-b5f1190e7177"
      },
      "execution_count": null,
      "outputs": [
        {
          "output_type": "stream",
          "name": "stdout",
          "text": [
            "[1, 2, 3, 4, 5]\n"
          ]
        }
      ]
    },
    {
      "cell_type": "code",
      "source": [
        "#slicing till the end\n",
        "subset = numbers[5:]\n",
        "print(subset)"
      ],
      "metadata": {
        "colab": {
          "base_uri": "https://localhost:8080/"
        },
        "id": "NteDJIvEu1NW",
        "outputId": "b881b15d-646a-4bcb-ed5f-8abfae879bad"
      },
      "execution_count": null,
      "outputs": [
        {
          "output_type": "stream",
          "name": "stdout",
          "text": [
            "[6, 7, 8, 9, 10]\n"
          ]
        }
      ]
    },
    {
      "cell_type": "markdown",
      "source": [
        "# Tuples in Python\n",
        "Tuples are similar to lists in Python, but with one key difference: tuples are immutable, meaning their elements cannot be changed or modified after creation. Tuples are often used to store collections of data that should not be modified throughout the program."
      ],
      "metadata": {
        "id": "LfBa9nQ-vex_"
      }
    },
    {
      "cell_type": "code",
      "source": [
        "# Creating a tuple of fruits\n",
        "fruits = (\"apple\", \"banana\", \"orange\", \"grape\",[\"Harsh\",\"Sakshi\"],1.5,True, 100,(\"a\",\"b\",\"c\"))\n",
        "print(fruits)\n",
        "print(type(fruits))\n",
        "\n",
        "# fruits.append( \"mango\")"
      ],
      "metadata": {
        "colab": {
          "base_uri": "https://localhost:8080/"
        },
        "id": "SDV0zbVYvdbd",
        "outputId": "f84d93d9-fb6c-4f9c-92a1-e34fe698434a"
      },
      "execution_count": null,
      "outputs": [
        {
          "output_type": "stream",
          "name": "stdout",
          "text": [
            "('apple', 'banana', 'orange', 'grape', ['Harsh', 'Sakshi'], 1.5, True, 100, ('a', 'b', 'c'))\n",
            "<class 'tuple'>\n"
          ]
        }
      ]
    },
    {
      "cell_type": "code",
      "source": [
        "# Accessing the first element of the tuple\n",
        "first_fruit = fruits[0]\n",
        "print(first_fruit)"
      ],
      "metadata": {
        "colab": {
          "base_uri": "https://localhost:8080/"
        },
        "id": "ywzXkQLJvhy3",
        "outputId": "1abed89d-1c45-43c0-b16c-5cb05c000780"
      },
      "execution_count": null,
      "outputs": [
        {
          "output_type": "stream",
          "name": "stdout",
          "text": [
            "apple\n"
          ]
        }
      ]
    },
    {
      "cell_type": "code",
      "source": [
        "my_tuple = (1, 2, 3, 4, 5)\n",
        "subset = my_tuple[1:4]\n",
        "print('subset of the tuple is: ',subset)"
      ],
      "metadata": {
        "colab": {
          "base_uri": "https://localhost:8080/"
        },
        "id": "lLsYqtC1vlwU",
        "outputId": "7835d8cd-2acc-434b-8109-59a6968683d5"
      },
      "execution_count": null,
      "outputs": [
        {
          "output_type": "stream",
          "name": "stdout",
          "text": [
            "subset of the tuple is:  (2, 3, 4)\n"
          ]
        }
      ]
    },
    {
      "cell_type": "code",
      "source": [
        "# Creating a tuple\n",
        "example_tuple = (1, 2, 3, 4, 2, 2)\n",
        "example_list=[0,0,0]\n",
        "print(example_tuple[4])\n",
        "print(\"Count of 0 in List:\", example_list.count(0))\n",
        "\n",
        "# Indexing\n",
        "print(\"Element at index 0:\", example_tuple[0])\n"
      ],
      "metadata": {
        "colab": {
          "base_uri": "https://localhost:8080/"
        },
        "id": "lbwt03EXvrbY",
        "outputId": "b8ac5b1c-8a8b-4981-d4c9-c36d9690960c"
      },
      "execution_count": null,
      "outputs": [
        {
          "output_type": "stream",
          "name": "stdout",
          "text": [
            "2\n",
            "Count of 0 in List: 3\n",
            "Element at index 0: 1\n"
          ]
        }
      ]
    },
    {
      "cell_type": "code",
      "source": [],
      "metadata": {
        "id": "tzUtwyRQwa0I"
      },
      "execution_count": null,
      "outputs": []
    },
    {
      "cell_type": "code",
      "source": [
        "example_tuple = (1, 7, 3, 4, 2, 2,100,1)\n",
        "# Index method\n",
        "print(\"First index of 100:\", example_tuple.index(100))\n",
        "# print(\"First index of 1:\", example_tuple.index(1))\n",
        "# print(\"First index of 1:\", example_tuple[1])"
      ],
      "metadata": {
        "colab": {
          "base_uri": "https://localhost:8080/"
        },
        "id": "iFHGgz8dwa3o",
        "outputId": "22ec898b-c21e-4d7c-ccba-ae3f6368bafe"
      },
      "execution_count": null,
      "outputs": [
        {
          "output_type": "stream",
          "name": "stdout",
          "text": [
            "First index of 2: 6\n"
          ]
        }
      ]
    },
    {
      "cell_type": "code",
      "source": [
        "tuple1=(1,2,3)\n",
        "tuple2=(4,5,6)\n",
        "new_tuple=tuple1+tuple2\n",
        "# new_tuple\n",
        "2*3\n",
        "2+2+3\n",
        "new_tuple1=tuple1*3\n",
        "new_tuple1"
      ],
      "metadata": {
        "colab": {
          "base_uri": "https://localhost:8080/"
        },
        "id": "K6ZhHkMZwZ00",
        "outputId": "0920e609-86a7-456a-89a0-65b5d30085b2"
      },
      "execution_count": null,
      "outputs": [
        {
          "output_type": "execute_result",
          "data": {
            "text/plain": [
              "(1, 2, 3, 1, 2, 3, 1, 2, 3)"
            ]
          },
          "metadata": {},
          "execution_count": 72
        }
      ]
    },
    {
      "cell_type": "markdown",
      "source": [
        "# Sets\n",
        "\n",
        "\n",
        "\n",
        "1.   **Sets are unordered collections of unique elements in Python.**\n",
        "2.   **Duplicate Items are Not allowed**\n",
        "\n"
      ],
      "metadata": {
        "id": "GgP7qQiNwhpJ"
      }
    },
    {
      "cell_type": "code",
      "source": [
        "set1={10,10,21,12,32,22}\n",
        "set2=set([1,2,3,4,5,6])\n",
        "print(type(set2))\n",
        "print(set1)"
      ],
      "metadata": {
        "colab": {
          "base_uri": "https://localhost:8080/"
        },
        "id": "kGs9AZEowgzW",
        "outputId": "e3f9116c-9a3f-46c9-a020-7adb22377a2c"
      },
      "execution_count": null,
      "outputs": [
        {
          "output_type": "stream",
          "name": "stdout",
          "text": [
            "<class 'set'>\n",
            "{32, 21, 22, 10, 12}\n"
          ]
        }
      ]
    },
    {
      "cell_type": "code",
      "source": [
        "set1.add(100)\n",
        "set1"
      ],
      "metadata": {
        "colab": {
          "base_uri": "https://localhost:8080/"
        },
        "id": "qD5uKIMrETI4",
        "outputId": "117e049a-5bdc-4e11-bb70-083f7ef3965f"
      },
      "execution_count": null,
      "outputs": [
        {
          "output_type": "execute_result",
          "data": {
            "text/plain": [
              "{10, 12, 21, 22, 32, 100}"
            ]
          },
          "metadata": {},
          "execution_count": 34
        }
      ]
    },
    {
      "cell_type": "code",
      "source": [
        "set1.add(10202)\n",
        "set1"
      ],
      "metadata": {
        "colab": {
          "base_uri": "https://localhost:8080/"
        },
        "id": "A_g3qjyfETMW",
        "outputId": "b819be97-afee-4a89-8091-4cb73e91f618"
      },
      "execution_count": null,
      "outputs": [
        {
          "output_type": "execute_result",
          "data": {
            "text/plain": [
              "{10, 12, 21, 22, 32, 100, 10202}"
            ]
          },
          "metadata": {},
          "execution_count": 36
        }
      ]
    },
    {
      "cell_type": "code",
      "source": [
        "set1.remove(10202)\n",
        "set1"
      ],
      "metadata": {
        "colab": {
          "base_uri": "https://localhost:8080/"
        },
        "id": "69RoYtcsETQA",
        "outputId": "79d84662-cd13-438a-81a7-86af76e215c5"
      },
      "execution_count": null,
      "outputs": [
        {
          "output_type": "execute_result",
          "data": {
            "text/plain": [
              "{10, 12, 21, 22, 32, 100}"
            ]
          },
          "metadata": {},
          "execution_count": 40
        }
      ]
    },
    {
      "cell_type": "code",
      "source": [
        "st1={1,2,3,5}\n",
        "st2={3,4,5,1}\n",
        "st3={5,6,7,1}\n",
        "union_set=st1.union(st2,st3)\n",
        "print(union_set)\n",
        "Intersection_Set=st1.intersection(st2,st3)\n",
        "print(Intersection_Set)\n",
        "# print(st1.union(st2))\n",
        "# print(st1.intersection(st2))\n"
      ],
      "metadata": {
        "colab": {
          "base_uri": "https://localhost:8080/"
        },
        "id": "95kctX3QE-bF",
        "outputId": "7ad71d2e-544a-43a9-9763-302a374624e8"
      },
      "execution_count": null,
      "outputs": [
        {
          "output_type": "stream",
          "name": "stdout",
          "text": [
            "{1, 2, 3, 4, 5, 6, 7}\n",
            "{1, 5}\n"
          ]
        }
      ]
    },
    {
      "cell_type": "code",
      "source": [
        "st1={1,2,3}\n",
        "st2={3,4,5}"
      ],
      "metadata": {
        "id": "ynuRnUXdGT_f"
      },
      "execution_count": null,
      "outputs": []
    },
    {
      "cell_type": "code",
      "source": [
        "# Set difference\n",
        "print(st1-st2)\n",
        "\n",
        "# Symetric difference\n",
        "\n",
        "print(st1.symmetric_difference(st2))"
      ],
      "metadata": {
        "colab": {
          "base_uri": "https://localhost:8080/"
        },
        "id": "mGzjhPfRFr9z",
        "outputId": "c970a3d5-0073-4b64-97f0-50d9df0b9bb4"
      },
      "execution_count": null,
      "outputs": [
        {
          "output_type": "stream",
          "name": "stdout",
          "text": [
            "{1, 2}\n",
            "{1, 2, 4, 5}\n"
          ]
        }
      ]
    },
    {
      "cell_type": "code",
      "source": [
        "A={1,2}\n",
        "B={1,2,3,4,5}\n",
        "print(A.issubset(B))"
      ],
      "metadata": {
        "colab": {
          "base_uri": "https://localhost:8080/"
        },
        "id": "ztaMxPjAHMig",
        "outputId": "c06c909d-4f68-49cc-9111-2cc59e3fecdf"
      },
      "execution_count": null,
      "outputs": [
        {
          "output_type": "stream",
          "name": "stdout",
          "text": [
            "True\n"
          ]
        }
      ]
    },
    {
      "cell_type": "code",
      "source": [
        "set_1={1,20,33} # Subset of Set2\n",
        "set_2={1,2,3,4,5} # Superset of Set1\n",
        "# issuperset and isdisjoint methods\n",
        "print(\"1 is superset of 2:\", set_1.issuperset(set_2))\n",
        "print(\"2 is superset of 1:\", set_2.issuperset(set_1))\n",
        "print(\"1 is subset of 2:\", set_1.issubset(set_2))\n",
        "print(\"2 is subset of 1:\", set_2.issubset(set_1))\n",
        "print(\"2 is Disjoint of 1:\", set_2.isdisjoint(set_1))\n"
      ],
      "metadata": {
        "colab": {
          "base_uri": "https://localhost:8080/"
        },
        "id": "iVIcmo_OwlkO",
        "outputId": "94a93f21-7e5a-4fea-cf1c-bc88e714d1c7"
      },
      "execution_count": null,
      "outputs": [
        {
          "output_type": "stream",
          "name": "stdout",
          "text": [
            "1 is superset of 2: False\n",
            "2 is superset of 1: False\n",
            "1 is subset of 2: False\n",
            "2 is subset of 1: False\n",
            "2 is Disjoint of 1: False\n"
          ]
        }
      ]
    },
    {
      "cell_type": "code",
      "source": [
        "# Creating sets\n",
        "set_a = {1, 2, 3, 4, 30 , 40}\n",
        "set_b = {80,90}\n",
        "\n",
        "#super set and sub set\n",
        "\n",
        "# issuperset and isdisjoint methods\n",
        "print(\"A is superset of B:\", set_a.issuperset(set_b))\n",
        "print(\"A is disjoint with B:\", set_a.isdisjoint(set_b))\n",
        "\n"
      ],
      "metadata": {
        "colab": {
          "base_uri": "https://localhost:8080/"
        },
        "id": "CeNCdJcfwqg1",
        "outputId": "bd4c93c2-9356-4dfc-dc37-423ff497eb22"
      },
      "execution_count": null,
      "outputs": [
        {
          "output_type": "stream",
          "name": "stdout",
          "text": [
            "A is superset of B: False\n",
            "A is disjoint with B: True\n"
          ]
        }
      ]
    },
    {
      "cell_type": "code",
      "source": [
        "\n",
        "# update method\n",
        "set_a.update(set_b)\n",
        "print(\"Updated Set A:\", set_a)\n"
      ],
      "metadata": {
        "colab": {
          "base_uri": "https://localhost:8080/"
        },
        "id": "Z2t33Y8SwtPs",
        "outputId": "f333b7a9-912f-42ab-f8e8-f40a95d24c06"
      },
      "execution_count": null,
      "outputs": [
        {
          "output_type": "stream",
          "name": "stdout",
          "text": [
            "Updated Set A: {80, 1, 2, 3, 4, 40, 90, 30}\n"
          ]
        }
      ]
    },
    {
      "cell_type": "code",
      "source": [
        "\n",
        "# add, remove, discard, pop, clear, copy methods\n",
        "set_a.add(60)  # Adding element to set\n",
        "print(set_a)\n",
        "# set_a.remove(90)  # Removing element throws error if element not present\n",
        "# print(set_a)\n",
        "# set_a.remove(100)  # Removing element throws error if element not present\n",
        "# print(set_a)\n",
        "\n"
      ],
      "metadata": {
        "colab": {
          "base_uri": "https://localhost:8080/"
        },
        "id": "SNaB-qM6wtSC",
        "outputId": "085340b8-2000-4bcb-912d-27a2f8f5ad9a"
      },
      "execution_count": null,
      "outputs": [
        {
          "output_type": "stream",
          "name": "stdout",
          "text": [
            "{1, 2, 3, 4, 80, 30, 40, 60}\n"
          ]
        }
      ]
    },
    {
      "cell_type": "code",
      "source": [
        "set_a.discard(100)  # Discards element if present, no error if not\n",
        "print(set_a)"
      ],
      "metadata": {
        "colab": {
          "base_uri": "https://localhost:8080/"
        },
        "id": "2oHW9pIAwtUX",
        "outputId": "d1ecf88d-e695-481e-9101-295413f0af95"
      },
      "execution_count": null,
      "outputs": [
        {
          "output_type": "stream",
          "name": "stdout",
          "text": [
            "{1, 2, 3, 4, 80, 30, 40, 60}\n"
          ]
        }
      ]
    },
    {
      "cell_type": "code",
      "source": [
        "print(set_a)\n",
        "popped_element = set_a.pop()  # Removes an arbitrary element\n",
        "print(\"Popped Element:\", popped_element)\n",
        "print(set_a)"
      ],
      "metadata": {
        "colab": {
          "base_uri": "https://localhost:8080/"
        },
        "id": "VJxLembjwtWf",
        "outputId": "6e1b6cba-b847-4213-ff24-7a9b3d44c9a7"
      },
      "execution_count": null,
      "outputs": [
        {
          "output_type": "stream",
          "name": "stdout",
          "text": [
            "{1, 2, 3, 4, 80, 30, 40, 60}\n",
            "Popped Element: 1\n",
            "{2, 3, 4, 80, 30, 40, 60}\n"
          ]
        }
      ]
    },
    {
      "cell_type": "code",
      "source": [
        "set_a={1,2,3}"
      ],
      "metadata": {
        "id": "ymbCZcVawtY_"
      },
      "execution_count": null,
      "outputs": []
    },
    {
      "cell_type": "code",
      "source": [
        "set_copy = set_a.copy()  # Creates a copy of the set\n",
        "set_a.clear()  # Clears the set\n",
        "print(\"Copy of Set:\", set_copy)\n",
        "print(\"Copy of Set:\", set_a)"
      ],
      "metadata": {
        "colab": {
          "base_uri": "https://localhost:8080/"
        },
        "id": "-saBmruSwtcE",
        "outputId": "d2a1e9d3-916c-432a-b6bd-d575d61a119c"
      },
      "execution_count": null,
      "outputs": [
        {
          "output_type": "stream",
          "name": "stdout",
          "text": [
            "Copy of Set: {1, 2, 3}\n",
            "Copy of Set: set()\n"
          ]
        }
      ]
    },
    {
      "cell_type": "markdown",
      "source": [
        "# **Dictionary** key-value pairs"
      ],
      "metadata": {
        "id": "8OtgipmLxBx-"
      }
    },
    {
      "cell_type": "code",
      "source": [
        "# Creating a dictionary\n",
        "my_dict = {'name': 'Alice', 'age': 25, 'location': 'Wonderland'}\n",
        "print(my_dict)  # Safer way to access values\n",
        "my_dict[\"name\"]\n",
        "# # Using get, clear, copy, update, keys, values, and items methods\n",
        "print(my_dict.get('location'))  # Safer way to access values\n",
        "print(my_dict.get('age'))  # Safer way to access values\n",
        "print(my_dict.get('name'))  # Safer way to access values\n",
        "\n"
      ],
      "metadata": {
        "colab": {
          "base_uri": "https://localhost:8080/"
        },
        "id": "Rm-8qGQpxA37",
        "outputId": "fff83a24-32f4-4831-e95f-d5702e1390a3"
      },
      "execution_count": null,
      "outputs": [
        {
          "output_type": "stream",
          "name": "stdout",
          "text": [
            "{'name': 'Alice', 'age': 25, 'location': 'Wonderland'}\n",
            "Wonderland\n",
            "25\n",
            "Alice\n"
          ]
        }
      ]
    },
    {
      "cell_type": "code",
      "source": [
        "print(my_dict.keys())\n",
        "print(my_dict.values())\n",
        "print(my_dict.items())\n"
      ],
      "metadata": {
        "colab": {
          "base_uri": "https://localhost:8080/"
        },
        "id": "elSNox1UxHAL",
        "outputId": "9f5083df-eb4b-41df-9d80-0d925f525b74"
      },
      "execution_count": null,
      "outputs": [
        {
          "output_type": "stream",
          "name": "stdout",
          "text": [
            "dict_keys(['name', 'age', 'location'])\n",
            "dict_values(['Alice', 25, 'Wonderland'])\n",
            "dict_items([('name', 'Alice'), ('age', 25), ('location', 'Wonderland')])\n"
          ]
        }
      ]
    },
    {
      "cell_type": "code",
      "source": [
        "# Update method\n",
        "my_dict.update({'age': 26, 'email': 'alice@example.com'})\n",
        "print(\"Updated Dictionary:\", my_dict)\n",
        "\n",
        "my_dict['name']=\"harsh\"\n",
        "\n",
        "print(\"Updated Dictionary:\", my_dict)"
      ],
      "metadata": {
        "colab": {
          "base_uri": "https://localhost:8080/"
        },
        "id": "E3asGW_LxKbk",
        "outputId": "f47ab85d-c943-4a86-8510-75b2ad4228b1"
      },
      "execution_count": null,
      "outputs": [
        {
          "output_type": "stream",
          "name": "stdout",
          "text": [
            "Updated Dictionary: {'name': 'Alice', 'age': 26, 'location': 'Wonderland', 'email': 'alice@example.com'}\n",
            "Updated Dictionary: {'name': 'harsh', 'age': 26, 'location': 'Wonderland', 'email': 'alice@example.com'}\n"
          ]
        }
      ]
    },
    {
      "cell_type": "code",
      "source": [
        "\n",
        "# pop, popitem, fromkeys, setdefault methods\n",
        "popped_value = my_dict.pop('location')  # Pops 'location' key\n",
        "print(\"Popped Value:\", popped_value)\n",
        "print(\"Updated Dictionary:\", my_dict)\n",
        "\n"
      ],
      "metadata": {
        "colab": {
          "base_uri": "https://localhost:8080/"
        },
        "id": "hIosV66uxMkL",
        "outputId": "ea342129-391f-4c36-876a-12470955f05d"
      },
      "execution_count": null,
      "outputs": [
        {
          "output_type": "stream",
          "name": "stdout",
          "text": [
            "Popped Value: Wonderland\n",
            "Updated Dictionary: {'name': 'harsh', 'age': 26, 'email': 'alice@example.com'}\n"
          ]
        }
      ]
    },
    {
      "cell_type": "code",
      "source": [
        "print(my_dict)"
      ],
      "metadata": {
        "colab": {
          "base_uri": "https://localhost:8080/"
        },
        "id": "SGPGsGHFxP6W",
        "outputId": "75ab89f4-e645-494e-d5e6-e21baf240b36"
      },
      "execution_count": null,
      "outputs": [
        {
          "output_type": "stream",
          "name": "stdout",
          "text": [
            "{'name': 'harsh', 'age': 26, 'email': 'alice@example.com'}\n"
          ]
        }
      ]
    },
    {
      "cell_type": "code",
      "source": [
        "key, value = my_dict.popitem()  # Pops last inserted key-value pair\n",
        "print(\"Popitem:\", key, value)\n",
        "value"
      ],
      "metadata": {
        "colab": {
          "base_uri": "https://localhost:8080/"
        },
        "id": "ygUMZzLBxbWX",
        "outputId": "be7b8779-1469-437b-a909-6caddbbc491f"
      },
      "execution_count": null,
      "outputs": [
        {
          "output_type": "stream",
          "name": "stdout",
          "text": [
            "Popitem: age 26\n"
          ]
        },
        {
          "output_type": "execute_result",
          "data": {
            "text/plain": [
              "26"
            ]
          },
          "metadata": {},
          "execution_count": 25
        }
      ]
    },
    {
      "cell_type": "code",
      "source": [
        "new_dict = dict.fromkeys(['a', 'b', 'c',\"h\",\"aa\"], 0)  # Creates new dict from keys with same value\n",
        "\n",
        "print(\"Fromkeys:\", new_dict)\n"
      ],
      "metadata": {
        "colab": {
          "base_uri": "https://localhost:8080/"
        },
        "id": "gpj4XmNSxfux",
        "outputId": "25eef311-c99c-46ed-9b14-111754367df6"
      },
      "execution_count": null,
      "outputs": [
        {
          "output_type": "stream",
          "name": "stdout",
          "text": [
            "Fromkeys: {'a': 0, 'b': 0, 'c': 0, 'h': 0, 'aa': 0}\n"
          ]
        }
      ]
    },
    {
      "cell_type": "markdown",
      "source": [
        "# String"
      ],
      "metadata": {
        "id": "Ix-DKbYyxyrB"
      }
    },
    {
      "cell_type": "code",
      "source": [
        "# Example string\n",
        "s = \"Hello, world!\"\n",
        "a=\"01234567891011\"\n",
        "\n",
        "str1=\"Hello\"\n",
        "str2='World'\n",
        "str3=''' harsh '''\n",
        "str4=\"\"\"1\"\"\"\n",
        "\n",
        "print(type(str1))\n",
        "print(type(str2))\n",
        "print(type(str3))\n",
        "\n",
        "# Indexing (zero-based)\n",
        "print(s[0])\n",
        "print(s[7])\n",
        "\n",
        "# # Slicing\n",
        "print(s[1:5])\n",
        "print(s[7:])\n",
        "print(s[:5])\n",
        "print(s[-1])\n"
      ],
      "metadata": {
        "colab": {
          "base_uri": "https://localhost:8080/"
        },
        "id": "tCZEyie_xyAQ",
        "outputId": "6c3bc93f-574f-4187-8a1a-809c005dce2c"
      },
      "execution_count": null,
      "outputs": [
        {
          "output_type": "stream",
          "name": "stdout",
          "text": [
            "<class 'str'>\n",
            "<class 'str'>\n",
            "<class 'str'>\n",
            "H\n",
            "w\n",
            "ello\n",
            "world!\n",
            "Hello\n",
            "!\n"
          ]
        }
      ]
    },
    {
      "cell_type": "code",
      "source": [
        "text = \"apple, banana, cherry\"\n",
        "words = text.split(\", \")\n",
        "print(words)\n",
        "print(len(words))\n",
        "\n",
        "print(type(words))\n",
        "\n",
        "words_joined = \" \".join(words)\n",
        "print(words_joined)\n",
        "words_joined = \", \".join(words)\n",
        "print(words_joined)\n",
        "print(type(words_joined))\n"
      ],
      "metadata": {
        "colab": {
          "base_uri": "https://localhost:8080/"
        },
        "id": "U8ELxPTRxfw-",
        "outputId": "bd54908f-4448-480c-f5e9-9a4029077899"
      },
      "execution_count": null,
      "outputs": [
        {
          "output_type": "stream",
          "name": "stdout",
          "text": [
            "['apple', 'banana', 'cherry']\n",
            "3\n",
            "<class 'list'>\n",
            "apple banana cherry\n",
            "apple, banana, cherry\n",
            "<class 'str'>\n"
          ]
        }
      ]
    },
    {
      "cell_type": "code",
      "source": [
        "phrase = \"Python Programming\"\n",
        "print(phrase.lower())\n",
        "\n",
        "print(phrase.upper())\n",
        "\n"
      ],
      "metadata": {
        "colab": {
          "base_uri": "https://localhost:8080/"
        },
        "id": "Lor_clD5xfy2",
        "outputId": "82c4313e-5760-46e0-c386-28f8ba674845"
      },
      "execution_count": null,
      "outputs": [
        {
          "output_type": "stream",
          "name": "stdout",
          "text": [
            "python programming\n",
            "PYTHON PROGRAMMING\n"
          ]
        }
      ]
    },
    {
      "cell_type": "code",
      "source": [
        "text = \"hello world\"\n",
        "print(text.capitalize())\n",
        "\n",
        "print(text.index(\"o\"))\n",
        "\n",
        "print(text.count(\"l\"))"
      ],
      "metadata": {
        "colab": {
          "base_uri": "https://localhost:8080/"
        },
        "id": "3AhJiSrNxf09",
        "outputId": "8c2d3702-4bfd-47aa-d12c-01027640a758"
      },
      "execution_count": null,
      "outputs": [
        {
          "output_type": "stream",
          "name": "stdout",
          "text": [
            "Hello world\n",
            "4\n",
            "3\n"
          ]
        }
      ]
    },
    {
      "cell_type": "code",
      "source": [
        "statement = \"harshh Vajpayee, Ai Engineer\"\n",
        "print(statement.isupper())\n",
        "\n",
        "print(statement.islower())\n",
        "\n",
        "print(statement.startswith(\"harshit\"))\n",
        "\n",
        "print(statement.endswith(\"World\"))\n"
      ],
      "metadata": {
        "colab": {
          "base_uri": "https://localhost:8080/"
        },
        "id": "cUkcX5Xwxf4g",
        "outputId": "f9a51e9f-0fcf-4b41-f85a-97b9134c5fd9"
      },
      "execution_count": null,
      "outputs": [
        {
          "output_type": "stream",
          "name": "stdout",
          "text": [
            "False\n",
            "False\n",
            "False\n",
            "False\n"
          ]
        }
      ]
    },
    {
      "cell_type": "markdown",
      "source": [
        "# Modules and Packages\n",
        "Importing and using standard and third-party libraries."
      ],
      "metadata": {
        "id": "9EZ70Rj0x_XK"
      }
    },
    {
      "cell_type": "code",
      "source": [
        "# Importing the math module\n",
        "import math\n",
        "print(math.sqrt(16))  # Output: 4.0\n",
        "list1=[1,2,3,4]\n",
        "print(list1*2)\n",
        "# # Using a third-party package (e.g., numpy)\n",
        "# import numpy as np\n",
        "# array = np.array([1, 2, 3, 4])\n",
        "# print(array * 2)  # Output: [2 4 6 8]\n"
      ],
      "metadata": {
        "colab": {
          "base_uri": "https://localhost:8080/"
        },
        "id": "AsdI_X4nx-vE",
        "outputId": "8744b668-a233-411c-aa11-426cbc7e4089"
      },
      "execution_count": null,
      "outputs": [
        {
          "output_type": "stream",
          "name": "stdout",
          "text": [
            "4.0\n",
            "[1, 2, 3, 4, 1, 2, 3, 4]\n"
          ]
        }
      ]
    },
    {
      "cell_type": "markdown",
      "source": [
        "# File Handling\n",
        "Reading from and writing to files.\n"
      ],
      "metadata": {
        "id": "AIDRiXtJySJW"
      }
    },
    {
      "cell_type": "code",
      "source": [
        "# Writing to a file\n",
        "with open(\"example.txt\", \"w\") as file:\n",
        "    file.write(\"Hello, file!\")\n",
        "\n",
        "# Reading from a file\n",
        "with open(\"example.txt\", \"r\") as file:\n",
        "    content = file.read()\n",
        "    print(content)  # Output: Hello, file!\n"
      ],
      "metadata": {
        "colab": {
          "base_uri": "https://localhost:8080/"
        },
        "id": "HcRDF2XjyOBy",
        "outputId": "2582e7cc-b6ce-45c5-fb32-4f9b1b077711"
      },
      "execution_count": null,
      "outputs": [
        {
          "output_type": "stream",
          "name": "stdout",
          "text": [
            "Hello, file!\n"
          ]
        }
      ]
    },
    {
      "cell_type": "code",
      "source": [
        " result = 10 / 0"
      ],
      "metadata": {
        "colab": {
          "base_uri": "https://localhost:8080/",
          "height": 141
        },
        "id": "CxemUWktLzu0",
        "outputId": "7d6fc705-39ad-4657-c539-4fd0df455578"
      },
      "execution_count": null,
      "outputs": [
        {
          "output_type": "error",
          "ename": "ZeroDivisionError",
          "evalue": "division by zero",
          "traceback": [
            "\u001b[0;31m---------------------------------------------------------------------------\u001b[0m",
            "\u001b[0;31mZeroDivisionError\u001b[0m                         Traceback (most recent call last)",
            "\u001b[0;32m<ipython-input-67-edcfe5e80815>\u001b[0m in \u001b[0;36m<cell line: 0>\u001b[0;34m()\u001b[0m\n\u001b[0;32m----> 1\u001b[0;31m \u001b[0mresult\u001b[0m \u001b[0;34m=\u001b[0m \u001b[0;36m10\u001b[0m \u001b[0;34m/\u001b[0m \u001b[0;36m0\u001b[0m\u001b[0;34m\u001b[0m\u001b[0;34m\u001b[0m\u001b[0m\n\u001b[0m",
            "\u001b[0;31mZeroDivisionError\u001b[0m: division by zero"
          ]
        }
      ]
    },
    {
      "cell_type": "markdown",
      "source": [
        "#Exception Handling\n",
        "Managing errors using try-except blocks.\n",
        "\n"
      ],
      "metadata": {
        "id": "6uKx4iwtydCu"
      }
    },
    {
      "cell_type": "code",
      "source": [
        "try:\n",
        "    result = 10 / 0\n",
        "except ZeroDivisionError:\n",
        "    print(\"Cannot divide by zero!\")"
      ],
      "metadata": {
        "colab": {
          "base_uri": "https://localhost:8080/"
        },
        "id": "nvSBB5yVyavK",
        "outputId": "85e40092-3d4b-47f5-d3e4-00d4dc9ebd62"
      },
      "execution_count": null,
      "outputs": [
        {
          "output_type": "stream",
          "name": "stdout",
          "text": [
            "Cannot divide by zero!\n"
          ]
        }
      ]
    },
    {
      "cell_type": "code",
      "source": [],
      "metadata": {
        "id": "R8cGnB_fyof6"
      },
      "execution_count": null,
      "outputs": []
    }
  ]
}